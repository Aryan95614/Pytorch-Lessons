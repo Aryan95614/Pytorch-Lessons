{
  "nbformat": 4,
  "nbformat_minor": 0,
  "metadata": {
    "colab": {
      "provenance": [],
      "authorship_tag": "ABX9TyMlBNmDO6RezWot4M8wJpfm",
      "include_colab_link": true
    },
    "kernelspec": {
      "name": "python3",
      "display_name": "Python 3"
    },
    "language_info": {
      "name": "python"
    }
  },
  "cells": [
    {
      "cell_type": "markdown",
      "metadata": {
        "id": "view-in-github",
        "colab_type": "text"
      },
      "source": [
        "<a href=\"https://colab.research.google.com/github/Aryan95614/Pytorch-Lessons/blob/RUNTHISFILE/Pytorch_Tutorial_2_Workflow.ipynb\" target=\"_parent\"><img src=\"https://colab.research.google.com/assets/colab-badge.svg\" alt=\"Open In Colab\"/></a>"
      ]
    },
    {
      "cell_type": "code",
      "execution_count": 198,
      "metadata": {
        "id": "wKQ8SMDMAxms",
        "colab": {
          "base_uri": "https://localhost:8080/"
        },
        "outputId": "814f1352-2552-40e3-8a13-26b0458cc5d8"
      },
      "outputs": [
        {
          "output_type": "stream",
          "name": "stdout",
          "text": [
            "1.13.0+cu116\n"
          ]
        }
      ],
      "source": [
        "# Making sure that Pytorch is here Installed\n",
        "import torch \n",
        "\n",
        "print(torch.__version__)"
      ]
    },
    {
      "cell_type": "markdown",
      "source": [
        "The essence of machine learning and deep learning is to take some data from the past, build an algorithm (like a neural network) to discover patterns in it and use the discoverd patterns to predict the future.\n",
        "\n",
        "There are many ways to do this and many new ways are being discovered all the time.\n",
        "\n",
        "But let's start small.\n",
        "\n",
        "How about we start with a straight line?\n",
        "\n",
        "And we see if we can build a PyTorch model that learns the pattern of the straight line and matches it.\n",
        "\n",
        "For now, we'll use this workflow to predict a simple straight line but the workflow steps can be repeated and changed depending on the problem you're working on.\n",
        "\n",
        "[Basic Flow Diagram of what we are supposed to do](https://raw.githubusercontent.com/mrdbourke/pytorch-deep-learning/main/images/01_a_pytorch_workflow.png)"
      ],
      "metadata": {
        "id": "kQNtElWH3Rqe"
      }
    },
    {
      "cell_type": "code",
      "source": [
        "\n",
        "from torch import nn # nn contains all of PyTorch's building blocks for neural networks\n",
        "import matplotlib.pyplot as plt"
      ],
      "metadata": {
        "id": "dECqGhyI8gL6"
      },
      "execution_count": 199,
      "outputs": []
    },
    {
      "cell_type": "markdown",
      "source": [
        "##1. Data (preparing and loading)\n",
        "I want to stress that \"data\" in machine learning can be almost anything you can imagine. A table of numbers (like a big Excel spreadsheet), images of any kind, videos (YouTube has lots of data!), audio files like songs or podcasts, protein structures, text and more.\n",
        "\n",
        "Machine learning is a game of two parts:\n",
        "\n",
        "Turn your data, whatever it is, into numbers (a representation).\n",
        "Pick or build a model to learn the representation as best as possible.\n",
        "Sometimes one and two can be done at the same time.\n",
        "\n",
        "But what if you don't have data?\n",
        "\n",
        "Well, that's where we're at now.\n",
        "\n",
        "No data.\n",
        "\n",
        "But we can create some.\n",
        "\n",
        "##Linear regression\n",
        "\n",
        "[link to gradient descent](https://www.wikiwand.com/en/Gradient_descent)"
      ],
      "metadata": {
        "id": "8E5efdHI8okC"
      }
    },
    {
      "cell_type": "code",
      "source": [
        "# Create *known* parameters\n",
        "weight = 0.7\n",
        "bias = 0.3\n",
        "\n",
        "# Create data\n",
        "start = 0\n",
        "end = 1\n",
        "step = 0.02\n",
        "X = torch.arange(start, end, step).unsqueeze(dim=1) #Returns a new tensor with a dimension of size one inserted at the specified position.\n",
        "y = weight * X + bias\n",
        "\n",
        "print(X[:10])\n",
        "print(y[:10])\n",
        "\n"
      ],
      "metadata": {
        "colab": {
          "base_uri": "https://localhost:8080/"
        },
        "id": "kOvM51KNHFX7",
        "outputId": "1f1f936a-f40e-49f3-ab4e-e608aa0f4f17"
      },
      "execution_count": 200,
      "outputs": [
        {
          "output_type": "stream",
          "name": "stdout",
          "text": [
            "tensor([[0.0000],\n",
            "        [0.0200],\n",
            "        [0.0400],\n",
            "        [0.0600],\n",
            "        [0.0800],\n",
            "        [0.1000],\n",
            "        [0.1200],\n",
            "        [0.1400],\n",
            "        [0.1600],\n",
            "        [0.1800]])\n",
            "tensor([[0.3000],\n",
            "        [0.3140],\n",
            "        [0.3280],\n",
            "        [0.3420],\n",
            "        [0.3560],\n",
            "        [0.3700],\n",
            "        [0.3840],\n",
            "        [0.3980],\n",
            "        [0.4120],\n",
            "        [0.4260]])\n"
          ]
        }
      ]
    },
    {
      "cell_type": "markdown",
      "source": [
        "Beautiful! Now we're going to move towards building a model that can learn the relationship between X (features) and y (labels).\n",
        "\n",
        "Split data into training and test sets\n",
        "We've got some data.\n",
        "\n",
        "But before we build a model we need to split it up.\n",
        "\n",
        "One of most important steps in a machine learning project is creating a training and test set (and when required, a validation set).\n",
        "\n",
        "Each split of the dataset serves a specific purpose:\n",
        "\n"
      ],
      "metadata": {
        "id": "hwDLSza0Jaxr"
      }
    },
    {
      "cell_type": "markdown",
      "source": [
        "In general, putting 80% of the data in the training set, 10% in the validation set, and 10% in the test set is a good split to start with. The optimum split of the test, validation, and train set depends upon factors such as the use case, the structure of the model, dimension of the data, etc."
      ],
      "metadata": {
        "id": "3MxFGnx3N0ip"
      }
    },
    {
      "cell_type": "code",
      "source": [
        "# Create train/test split\n",
        "train_split = int(0.8 * len(X)) # 80% of data used for training set, 20% for testing \n",
        "X_train, y_train = X[:train_split], y[:train_split] # that starting\n",
        "X_test, y_test = X[train_split:], y[train_split:] # that ongoing\n",
        "\n",
        "print(len(X_train)) # 40\n",
        "print(len(y_train)) # 40\n",
        "print(len(X_test)) # 10\n",
        "print(len(y_test)) # 10"
      ],
      "metadata": {
        "colab": {
          "base_uri": "https://localhost:8080/"
        },
        "id": "1mN-ebmFN18q",
        "outputId": "d8360663-a868-4f5d-c0dc-8985a9135762"
      },
      "execution_count": 201,
      "outputs": [
        {
          "output_type": "stream",
          "name": "stdout",
          "text": [
            "40\n",
            "40\n",
            "10\n",
            "10\n"
          ]
        }
      ]
    },
    {
      "cell_type": "markdown",
      "source": [
        "\n",
        "Wonderful, we've got 40 samples for training (X_train & y_train) and 10 samples for testing (X_test & y_test).\n",
        "\n",
        "The model we create is going to try and learn the relationship between X_train & y_train and then we will evaluate what it learns on X_test and y_test.\n",
        "\n",
        "But right now our data is just numbers on a page.\n",
        "\n",
        "Let's create a function to visualize it.\n",
        "\n",
        "Note: Now's a good time to introduce you to the data explorer's motto... \"visualize, visualize, visualize!\"\n",
        "\n",
        "Think of this whenever you're working with data and turning it into numbers, if you can visualize something, it can do wonders for understanding.\n",
        "\n",
        "Machines love numbers and we humans like numbers too but we also like to look at things."
      ],
      "metadata": {
        "id": "S-DILqYha2RM"
      }
    },
    {
      "cell_type": "code",
      "source": [
        "def plot_predictions(train_data=X_train, \n",
        "                     train_labels=y_train, \n",
        "                     test_data=X_test, \n",
        "                     test_labels=y_test, \n",
        "                     predictions=None):\n",
        "  \n",
        "  plt.figure(figsize=(10, 7))\n",
        "\n",
        "  \n",
        "  plt.scatter(train_data, train_labels, c=\"b\", s=4, label=\"Training data\")# Plot training data in blue\n",
        "  \n",
        " \n",
        "  plt.scatter(test_data, test_labels, c=\"g\", s=4, label=\"Testing data\") # Plot test data in green\n",
        "\n",
        "  if predictions is not None:   \n",
        "    plt.scatter(test_data, predictions, c=\"r\", s=4, label=\"Predictions\") # Plot the predictions in red (predictions were made on the test data)\n",
        "\n",
        "  # Show the legend\n",
        "  plt.legend(prop={\"size\": 14})\n",
        "plot_predictions()"
      ],
      "metadata": {
        "colab": {
          "base_uri": "https://localhost:8080/",
          "height": 428
        },
        "id": "bagOTr1Va28q",
        "outputId": "63bf7b42-ce9b-4ac5-fe28-b0f01ed18c7c"
      },
      "execution_count": 202,
      "outputs": [
        {
          "output_type": "display_data",
          "data": {
            "text/plain": [
              "<Figure size 720x504 with 1 Axes>"
            ],
            "image/png": "[encoded data removed]"
          },
          "metadata": {
            "needs_background": "light"
          }
        }
      ]
    },
    {
      "cell_type": "markdown",
      "source": [
        "\n",
        "##2. Build model\n",
        "Now we've got some data, let's build a model to use the blue dots to predict the green dots. We're going to jump right in. We'll write the code first and then explain everything. Let's replicate a standard linear regression model using pure PyTorch."
      ],
      "metadata": {
        "id": "XlKyiCxdcObD"
      }
    },
    {
      "cell_type": "code",
      "source": [
        "\n",
        "class LinearRegressionModel(nn.Module):\n",
        "    def __init__(self):\n",
        "        super().__init__() \n",
        "        # We will be able to access this by an already ordered dictionary that has been created\n",
        "        self.weights = nn.Parameter(torch.randn(1, #amount of weights\n",
        "                                                dtype=torch.float), # Between 0 and 1\n",
        "                                   requires_grad=True) # will be good for gradient descent\n",
        "\n",
        "        self.bias = nn.Parameter(torch.randn(1, # <- start with random bias (this will get adjusted as the model learns)\n",
        "                                            dtype=torch.float), # <- PyTorch loves float32 by default\n",
        "                                requires_grad=True) # <- can we update this value with gradient descent?))\n",
        "\n",
        "    \n",
        "    def forward(self, x: torch.Tensor) -> torch.Tensor: # gets input tensor then returns tensor\n",
        "        #needs to override the parent method\n",
        "        return self.weights * x + self.bias # Basic formulae\n",
        "\n",
        "'''\n",
        "torch.optim:\n",
        "Contains various optimization algorithms (these tell the model parameters \n",
        "stored in nn.Parameter how to best change to improve gradient descent and \n",
        "in turn reduce the loss).\n",
        "\n",
        "torch.nn.Parameter:\n",
        "Stores tensors that can be used with nn.Module. If requires_grad=True gradients\n",
        "(used for updating model parameters via gradient descent) are calculated \n",
        "automatically, this is often referred to as \"autograd\".\n",
        "'''"
      ],
      "metadata": {
        "colab": {
          "base_uri": "https://localhost:8080/",
          "height": 71
        },
        "id": "Q7Gr-qT9cZkK",
        "outputId": "a37c4d2d-9ca6-4ace-b5be-631addbe07b5"
      },
      "execution_count": 203,
      "outputs": [
        {
          "output_type": "execute_result",
          "data": {
            "text/plain": [
              "'\\ntorch.optim:\\nContains various optimization algorithms (these tell the model parameters \\nstored in nn.Parameter how to best change to improve gradient descent and \\nin turn reduce the loss).\\n\\ntorch.nn.Parameter:\\nStores tensors that can be used with nn.Module. If requires_grad=True gradients\\n(used for updating model parameters via gradient descent) are calculated \\nautomatically, this is often referred to as \"autograd\".\\n'"
            ],
            "application/vnd.google.colaboratory.intrinsic+json": {
              "type": "string"
            }
          },
          "metadata": {},
          "execution_count": 203
        }
      ]
    },
    {
      "cell_type": "code",
      "source": [
        "# Set manual seed since nn.Parameter are randomly initialzied\n",
        "torch.manual_seed(42)\n",
        "\n",
        "# Create an instance of the model (this is a subclass of nn.Module that contains nn.Parameter(s))\n",
        "model_0 = LinearRegressionModel()\n",
        "\n",
        "# Check the nn.Parameter(s) within the nn.Module subclass we created\n",
        "print(list(model_0.parameters()))\n",
        "\n",
        "# Seeing what values are already in the model in an ordered dictinionary\n",
        "print(model_0.state_dict())"
      ],
      "metadata": {
        "colab": {
          "base_uri": "https://localhost:8080/"
        },
        "id": "iErC32YmeZmB",
        "outputId": "341bc053-ef0f-4e8a-80e4-22ef4c92c9c3"
      },
      "execution_count": 204,
      "outputs": [
        {
          "output_type": "stream",
          "name": "stdout",
          "text": [
            "[Parameter containing:\n",
            "tensor([0.3367], requires_grad=True), Parameter containing:\n",
            "tensor([0.1288], requires_grad=True)]\n",
            "OrderedDict([('weights', tensor([0.3367])), ('bias', tensor([0.1288]))])\n"
          ]
        }
      ]
    },
    {
      "cell_type": "markdown",
      "source": [
        "Notice how the values for weights and bias from model_0.state_dict() come out as random float tensors? You know, the ones that we already had selected with our random seed.\n",
        "\n",
        "This is becuase we initialized them above using torch.randn().\n",
        "\n",
        "Essentially we want to start from random parameters and get the model to update them towards parameters that fit our data best (the hardcoded weight and bias values we set when creating our straight line data)."
      ],
      "metadata": {
        "id": "9E9e7tD5jY4N"
      }
    },
    {
      "cell_type": "markdown",
      "source": [
        "\n",
        "\n",
        "##Making predictions using torch.inference_mode()\n",
        "To check this we can pass it the test data X_test to see how closely it predicts y_test.\n",
        "\n",
        "When we pass data to our model, it'll go through the model's forward() method and produce a result using the computation we've defined.\n",
        "\n",
        "Let's make some predictions."
      ],
      "metadata": {
        "id": "cs115CwRjt3c"
      }
    },
    {
      "cell_type": "code",
      "source": [
        "with torch.inference_mode(): # this basically gears the laptop to just start guessing now\n",
        "    y_preds = model_0(X_test)"
      ],
      "metadata": {
        "id": "QcGUIOiKjwsv"
      },
      "execution_count": 205,
      "outputs": []
    },
    {
      "cell_type": "markdown",
      "source": [
        "As the name suggests, torch.inference_mode() is used when using a model for inference (making predictions).\n",
        "\n",
        "torch.inference_mode() turns off a bunch of things (like gradient tracking, which is necessary for training but not for inference) to make forward-passes (data going through the forward() method) faster."
      ],
      "metadata": {
        "id": "jnd1CnnxkAWt"
      }
    },
    {
      "cell_type": "code",
      "source": [
        "# Check the predictions\n",
        "print(f\"Number of testing samples: {len(X_test)}\") \n",
        "print(f\"Number of predictions made: {len(y_preds)}\")\n",
        "print(f\"Predicted values:\\n{y_preds}\")"
      ],
      "metadata": {
        "colab": {
          "base_uri": "https://localhost:8080/"
        },
        "id": "SD-JEpnEkMs0",
        "outputId": "66e83dbc-cf83-4df6-dbeb-a07e4a4489f5"
      },
      "execution_count": 206,
      "outputs": [
        {
          "output_type": "stream",
          "name": "stdout",
          "text": [
            "Number of testing samples: 10\n",
            "Number of predictions made: 10\n",
            "Predicted values:\n",
            "tensor([[0.3982],\n",
            "        [0.4049],\n",
            "        [0.4116],\n",
            "        [0.4184],\n",
            "        [0.4251],\n",
            "        [0.4318],\n",
            "        [0.4386],\n",
            "        [0.4453],\n",
            "        [0.4520],\n",
            "        [0.4588]])\n"
          ]
        }
      ]
    },
    {
      "cell_type": "code",
      "source": [
        "plot_predictions(predictions=y_preds)"
      ],
      "metadata": {
        "colab": {
          "base_uri": "https://localhost:8080/",
          "height": 428
        },
        "id": "kQIx-l1kkVWE",
        "outputId": "b39473ce-8671-4306-c16c-9321729e8d50"
      },
      "execution_count": 207,
      "outputs": [
        {
          "output_type": "display_data",
          "data": {
            "text/plain": [
              "<Figure size 720x504 with 1 Axes>"
            ],
            "image/png": "[encoded data removed]"
          },
          "metadata": {
            "needs_background": "light"
          }
        }
      ]
    },
    {
      "cell_type": "markdown",
      "source": [
        "##3. Train model\n",
        "Right now our model is making predictions using random parameters to make calculations, it's basically guessing (randomly).\n",
        "\n",
        "To fix that, we can update its internal parameters (I also refer to parameters as patterns), the weights and bias values we set randomly using nn.Parameter() and torch.randn() to be something that better represents the data.\n",
        "\n",
        "We could hard code this (since we know the default values weight=0.7 and bias=0.3) but where's the fun in that?\n",
        "\n",
        "Much of the time you won't know what the ideal parameters are for a model.\n",
        "\n",
        "Instead, it's much more fun to write code to see if the model can try and figure them out itself.\n",
        "\n",
        "\n",
        "##Creating a loss function and optimizer in PyTorch\n",
        "For our model to update its parameters on its own, we'll need to add a few more things to our recipe.\n",
        "\n",
        "And that's a loss function as well as an optimizer.\n",
        "\n",
        "The roles of these are:\n",
        "\n",
        "Loss function : Find in torch.nn. Measures how wrong your models predictions (e.g. y_preds) are compared to the truth labels (e.g. y_test). Lower the better. **Some common values are Mean absolute error (MAE) for regression problems (torch.nn.L1Loss()).Binary cross entropy for binary classification problems (torch.nn.BCELoss()).**\n",
        "\n",
        "Optimizer: Find in torch.optim. Tells your model how to update its internal parameters to best lower the loss. **Some examples are Stochastic gradient descent (torch.optim.SGD()). Adam optimizer (torch.optim.Adam()).**\n",
        "\n"
      ],
      "metadata": {
        "id": "uxVZejh0kjx_"
      }
    },
    {
      "cell_type": "markdown",
      "source": [
        "However, there are some common values, that are known to work well such as the SGD (stochastic gradient descent) or Adam optimizer. And the MAE (mean absolute error) loss function for regression problems (predicting a number) or binary cross entropy loss function for classification problems (predicting one thing or another).\n",
        "\n",
        "##For our problem, **since we're predicting a number, let's use MAE (which is under torch.nn.L1Loss()) in PyTorch as our loss function.**\n",
        "\n",
        "Mean absolute error (MAE, in PyTorch: torch.nn.L1Loss) measures the absolute difference between two points (predictions and labels) and then takes the mean across all examples.\n",
        "\n",
        "And we'll use SGD, torch.optim.SGD(params, lr) where:\n",
        "- params is the target model parameters you'd like to optimize (e.g. the weights and bias values we randomly set before).\n",
        "- lr is the learning rate you'd like the optimizer to update the parameters at, higher means the optimizer will try larger updates (these can sometimes be too large and the optimizer will fail to work), lower means the optimizer will try smaller updates (these can sometimes be too small and the optimizer will take too long to find the ideal values). \n",
        "- The learning rate is considered a hyperparameter (because it's set by a machine learning engineer). Common starting values for the learning rate are 0.01, 0.001, 0.0001, however, these can also be adjusted over time (this is called learning rate scheduling)."
      ],
      "metadata": {
        "id": "EK90tYx5ltpq"
      }
    },
    {
      "cell_type": "markdown",
      "source": [
        "\n",
        "##Creating an optimization loop in PyTorch\n",
        "\n",
        "Woohoo! Now we've got a loss function and an optimizer, it's now time to create a training loop (and testing loop).\n",
        "\n",
        "The training loop involves the model going through the training data and learning the relationships between the features and labels.\n",
        "\n",
        "The testing loop involves going through the testing data and evaluating how good the patterns are that the model learned on the training data (the model never see's the testing data during training).\n",
        "\n",
        "Each of these is called a \"loop\" because we want our model to look (loop through) at each sample in each dataset."
      ],
      "metadata": {
        "id": "zrtzgqhLm3vE"
      }
    },
    {
      "cell_type": "code",
      "source": [
        "# Create the loss function\n",
        "loss_fn = nn.L1Loss() # MAE loss is same as L1Loss\n",
        "\n",
        "\n",
        "optimizer = torch.optim.SGD(params=model_0.parameters(), # parameters of target model to optimize\n",
        "                            lr=0.005) # learning rate, right now no learning rate scheduling\n",
        " # Remember this https://www.learnpytorch.io/01_pytorch_workflow/#pytorch-training-loop                            "
      ],
      "metadata": {
        "id": "TcjR1mGam_e5"
      },
      "execution_count": 208,
      "outputs": []
    },
    {
      "cell_type": "code",
      "source": [
        "torch.manual_seed(42)\n",
        "\n",
        "\n",
        "epochs = 601\n",
        "\n",
        "# Create empty loss lists to track values\n",
        "train_loss_values = []\n",
        "test_loss_values = []\n",
        "epoch_count = []\n",
        "\n",
        "for epoch in range(epochs):\n",
        "    \n",
        "    model_0.train()\n",
        "\n",
        "   \n",
        "    y_pred = model_0(X_train) # predict\n",
        "\n",
        "    # 2. Calculate the loss (how different are our models predictions to the ground truth)\n",
        "    loss = loss_fn(y_pred, y_train)\n",
        "\n",
        "    # 3. Zero grad of the optimizer\n",
        "    optimizer.zero_grad()\n",
        "\n",
        "    # 4. Loss backwards\n",
        "    loss.backward()\n",
        "\n",
        "    # 5. Progress the optimizer\n",
        "    optimizer.step() # Tell me what I have to change after going into the nn\n",
        "\n",
        "    \n",
        "    # Put the model in evaluation mode\n",
        "    model_0.eval()\n",
        "\n",
        "    with torch.inference_mode():\n",
        "      \n",
        "      test_pred = model_0(X_test)\n",
        "\n",
        "      \n",
        "      test_loss = loss_fn(test_pred, y_test.type(torch.float)) # predictions come in torch.float datatype, so comparisons need to be done with tensors of the same type\n",
        "\n",
        "      \n",
        "      if epoch % 100 == 0:\n",
        "            epoch_count.append(epoch)\n",
        "            train_loss_values.append(loss.detach().numpy())\n",
        "            test_loss_values.append(test_loss.detach().numpy())\n",
        "            print(f\"Epoch: {epoch} | MAE Train Loss: {loss} | MAE Test Loss: {test_loss} | Success Rate: {1 - test_loss}\")      "
      ],
      "metadata": {
        "colab": {
          "base_uri": "https://localhost:8080/"
        },
        "id": "mfpDwtEPoeqM",
        "outputId": "057873ea-1e2e-4fe2-f1d7-32ea53908f48"
      },
      "execution_count": 209,
      "outputs": [
        {
          "output_type": "stream",
          "name": "stdout",
          "text": [
            "Epoch: 0 | MAE Train Loss: 0.31288138031959534 | MAE Test Loss: 0.4878006875514984 | Success Rate: 0.5121992826461792\n",
            "Epoch: 100 | MAE Train Loss: 0.041651852428913116 | MAE Test Loss: 0.10024197399616241 | Success Rate: 0.8997580409049988\n",
            "Epoch: 200 | MAE Train Loss: 0.024415848776698112 | MAE Test Loss: 0.056821130216121674 | Success Rate: 0.9431788921356201\n",
            "Epoch: 300 | MAE Train Loss: 0.007245116867125034 | MAE Test Loss: 0.016491109505295753 | Success Rate: 0.9835088849067688\n",
            "Epoch: 400 | MAE Train Loss: 0.001977377338334918 | MAE Test Loss: 0.0024690269492566586 | Success Rate: 0.997530996799469\n",
            "Epoch: 500 | MAE Train Loss: 0.001977377338334918 | MAE Test Loss: 0.0024690269492566586 | Success Rate: 0.997530996799469\n",
            "Epoch: 600 | MAE Train Loss: 0.001977377338334918 | MAE Test Loss: 0.0024690269492566586 | Success Rate: 0.997530996799469\n"
          ]
        }
      ]
    },
    {
      "cell_type": "code",
      "source": [
        "# Plot the loss curves\n",
        "plt.plot(epoch_count, train_loss_values, label=\"Train loss\")\n",
        "plt.plot(epoch_count, test_loss_values, label=\"Test loss\")\n",
        "plt.title(\"Training and test loss curves\")\n",
        "plt.ylabel(\"Loss\")\n",
        "plt.xlabel(\"Epochs\")\n",
        "plt.legend()"
      ],
      "metadata": {
        "colab": {
          "base_uri": "https://localhost:8080/",
          "height": 313
        },
        "id": "MNh-8xALsFp7",
        "outputId": "940f99e2-3da2-435c-f970-cd64ff9fd08b"
      },
      "execution_count": 210,
      "outputs": [
        {
          "output_type": "execute_result",
          "data": {
            "text/plain": [
              "<matplotlib.legend.Legend at 0x7fe7fd112c10>"
            ]
          },
          "metadata": {},
          "execution_count": 210
        },
        {
          "output_type": "display_data",
          "data": {
            "text/plain": [
              "<Figure size 432x288 with 1 Axes>"
            ],
            "image/png": "[encoded data removed]"
          },
          "metadata": {
            "needs_background": "light"
          }
        }
      ]
    },
    {
      "cell_type": "markdown",
      "source": [
        "Well, thanks to our loss function and optimizer, the model's internal parameters (weights and bias) were updated to better reflect the underlying patterns in the data.\n",
        "\n",
        "Let's inspect our model's .state_dict() to see see how close our model gets to the original values we set for weights and bias."
      ],
      "metadata": {
        "id": "1HAILvX6sge4"
      }
    },
    {
      "cell_type": "code",
      "source": [
        "# Find our model's learned parameters\n",
        "print(\"The model learned the following values for weights and bias:\")\n",
        "print(model_0.state_dict())\n",
        "print(\"\\nAnd the original values for weights and bias are:\")\n",
        "print(f\"weights: {weight}, bias: {bias}\")"
      ],
      "metadata": {
        "colab": {
          "base_uri": "https://localhost:8080/"
        },
        "id": "Nyx05lm4trTD",
        "outputId": "27b81232-93cf-4700-9ac0-a68f7f08f305"
      },
      "execution_count": 211,
      "outputs": [
        {
          "output_type": "stream",
          "name": "stdout",
          "text": [
            "The model learned the following values for weights and bias:\n",
            "OrderedDict([('weights', tensor([0.6974])), ('bias', tensor([0.3048]))])\n",
            "\n",
            "And the original values for weights and bias are:\n",
            "weights: 0.7, bias: 0.3\n"
          ]
        }
      ]
    },
    {
      "cell_type": "markdown",
      "source": [
        "4. Making predictions with a trained PyTorch model (inference)\n",
        "Once you've trained a model, you'll likely want to make predictions with it.\n",
        "\n",
        "We've already seen a glimpse of this in the training and testing code above, the steps to do it outside of the training/testing loop are similar.\n",
        "\n",
        "There are three things to remember when making predictions (also called performing inference) with a PyTorch model:\n",
        "\n",
        "Set the model in evaluation mode (model.eval()).\n",
        "- Make the predictions using the inference mode context manager (with torch.inference_mode(): ...).\n",
        "- All predictions should be made with objects on the same device (e.g. data and model on GPU only or data and model on CPU only).\n",
        "- The first two items make sure all helpful calculations and settings PyTorch uses behind the scenes during training but aren't necessary for inference are turned off (this results in faster computation). And the third ensures that you won't run into cross-device errors."
      ],
      "metadata": {
        "id": "1lT_Wm99t62X"
      }
    },
    {
      "cell_type": "code",
      "source": [
        "model_0.eval()\n",
        "\n",
        "with torch.inference_mode():\n",
        "  y_preds = model_0(X_test)\n",
        "print(y_preds)"
      ],
      "metadata": {
        "colab": {
          "base_uri": "https://localhost:8080/"
        },
        "id": "FO9C_2qAvUwf",
        "outputId": "6dfb701e-6cd2-4bdc-f59f-667a1ac4ec39"
      },
      "execution_count": 212,
      "outputs": [
        {
          "output_type": "stream",
          "name": "stdout",
          "text": [
            "tensor([[0.8627],\n",
            "        [0.8767],\n",
            "        [0.8906],\n",
            "        [0.9045],\n",
            "        [0.9185],\n",
            "        [0.9324],\n",
            "        [0.9464],\n",
            "        [0.9603],\n",
            "        [0.9743],\n",
            "        [0.9882]])\n"
          ]
        }
      ]
    },
    {
      "cell_type": "code",
      "source": [
        "plot_predictions(predictions=y_preds)"
      ],
      "metadata": {
        "colab": {
          "base_uri": "https://localhost:8080/",
          "height": 428
        },
        "id": "7CYIdJBMv4Nj",
        "outputId": "2af3662e-e542-4331-f53e-cae9b12f4d92"
      },
      "execution_count": 213,
      "outputs": [
        {
          "output_type": "display_data",
          "data": {
            "text/plain": [
              "<Figure size 720x504 with 1 Axes>"
            ],
            "image/png": "[encoded data removed]"
          },
          "metadata": {
            "needs_background": "light"
          }
        }
      ]
    },
    {
      "cell_type": "markdown",
      "source": [
        "##5. Saving and loading a PyTorch model\n",
        "If you've trained a PyTorch model, chances are you'll want to save it and export it somewhere.\n",
        "\n",
        "As in, you might train it on Google Colab or your local machine with a GPU but you'd like to now export it to some sort of application where others can use it.\n",
        "\n",
        "Or maybe you'd like to save your progress on a model and come back and load it back later.\n",
        "\n",
        "For saving and loading models in PyTorch, there are three main methods you should be aware of (all of below have been taken from the PyTorch saving and loading models guide):\n",
        "\n",
        "Note: As stated in Python's pickle documentation, the pickle module is not secure. That means you should only ever unpickle (load) data you trust. That goes for loading PyTorch models as well. Only ever use saved PyTorch models from sources you trust."
      ],
      "metadata": {
        "id": "dZbHp9UvwzfE"
      }
    },
    {
      "cell_type": "markdown",
      "source": [
        "\n",
        "Saving a PyTorch model's state_dict()\n",
        "The recommended way for saving and loading a model for inference (making predictions) is by saving and loading a model's state_dict().\n",
        "\n",
        "Let's see how we can do that in a few steps:\n",
        "\n",
        "We'll create a directory for saving models to called models using Python's pathlib module.\n",
        "We'll create a file path to save the model to.\n",
        "We'll call torch.save(obj, f) where obj is the target model's state_dict() and f is the filename of where to save the model.\n",
        "Note: It's common convention for PyTorch saved models or objects to end with .pt or .pth, like saved_model_01.pth."
      ],
      "metadata": {
        "id": "fgYk3FSPxTvj"
      }
    },
    {
      "cell_type": "code",
      "source": [
        "from pathlib import Path\n",
        "\n",
        "# 1. Create models directory \n",
        "MODEL_PATH = Path(\"models\")\n",
        "MODEL_PATH.mkdir(parents=True, exist_ok=True)\n",
        "\n",
        "# 2. Create model save path \n",
        "MODEL_NAME = \"01_pytorch_workflow_model_0.pth\"\n",
        "MODEL_SAVE_PATH = MODEL_PATH / MODEL_NAME\n",
        "\n",
        "# 3. Save the model state dict \n",
        "print(f\"Saving model to: {MODEL_SAVE_PATH}\")\n",
        "torch.save(obj=model_0.state_dict(), # only saving the state_dict() only saves the models learned parameters\n",
        "           f=MODEL_SAVE_PATH) "
      ],
      "metadata": {
        "colab": {
          "base_uri": "https://localhost:8080/"
        },
        "id": "3ilXXvOhxKre",
        "outputId": "3b76a034-477d-45d0-e4f0-0c64941282d2"
      },
      "execution_count": 214,
      "outputs": [
        {
          "output_type": "stream",
          "name": "stdout",
          "text": [
            "Saving model to: models/01_pytorch_workflow_model_0.pth\n"
          ]
        }
      ]
    },
    {
      "cell_type": "markdown",
      "source": [
        "\n",
        "Loading a saved PyTorch model's state_dict()\n",
        "Since we've now got a saved model state_dict() at models/01_pytorch_workflow_model_0.pth we can now load it in using torch.nn.Module.load_state_dict(torch.load(f)) where f is the filepath of our saved model state_dict().\n",
        "\n",
        "Why call torch.load() inside torch.nn.Module.load_state_dict()?\n",
        "\n",
        "Because we only saved the model's state_dict() which is a dictionary of learned parameters and not the entire model, we first have to load the state_dict() with torch.load() and then pass that state_dict() to a new instance of our model (which is a subclass of nn.Module).\n",
        "\n",
        "Why not save the entire model?\n",
        "\n",
        "Saving the entire model rather than just the state_dict() is more intuitive, however, to quote the PyTorch documentation (italics mine):\n",
        "\n",
        "The disadvantage of this approach (saving the whole model) is that the serialized data is bound to the specific classes and the exact directory structure used when the model is saved...\n",
        "\n",
        "Because of this, your code can break in various ways when used in other projects or after refactors.\n",
        "\n",
        "So instead, we're using the flexible method of saving and loading just the state_dict(), which again is basically a dictionary of model parameters.\n",
        "\n",
        "Let's test it out by created another instance of LinearRegressionModel(), which is a subclass of torch.nn.Module and will hence have the in-built method load_state_dit()"
      ],
      "metadata": {
        "id": "1EiBafA7xoMG"
      }
    },
    {
      "cell_type": "code",
      "source": [
        "# Instantiate a new instance of our model (this will be instantiated with random weights)\n",
        "loaded_model_0 = LinearRegressionModel()\n",
        "\n",
        "# Load the state_dict of our saved model (this will update the new instance of our model with trained weights)\n",
        "loaded_model_0.load_state_dict(torch.load(f=MODEL_SAVE_PATH)) # https://www.learnpytorch.io/01_pytorch_workflow/ This already works so no need to test the predictions again\n"
      ],
      "metadata": {
        "colab": {
          "base_uri": "https://localhost:8080/"
        },
        "id": "4m33o9M-xqBg",
        "outputId": "6d31e013-7809-46e7-f46f-8a91c42f0ef4"
      },
      "execution_count": 215,
      "outputs": [
        {
          "output_type": "execute_result",
          "data": {
            "text/plain": [
              "<All keys matched successfully>"
            ]
          },
          "metadata": {},
          "execution_count": 215
        }
      ]
    },
    {
      "cell_type": "markdown",
      "source": [
        "##6. Putting it all together\n",
        "We've covered a fair bit of ground so far.\n",
        "\n",
        "But once you've had some practice, you'll be performing the above steps like dancing down the street.\n",
        "\n",
        "Speaking of practice, let's put everything we've done so far together.\n",
        "\n",
        "Except this time we'll make our code device agnostic (so if there's a GPU available, it'll use it and if not, it will default to the CPU).\n",
        "\n",
        "There'll be far less commentary in this section than above since what we're going to go through has already been covered.\n",
        "\n",
        "We'll start by importing the standard libraries we need.\n",
        "If you want to do it on a gpu, just click the link and plug it in. \n"
      ],
      "metadata": {
        "id": "vRheusQKx_cr"
      }
    }
  ]
}